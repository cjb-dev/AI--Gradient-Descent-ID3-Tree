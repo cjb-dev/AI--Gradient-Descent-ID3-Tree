{
  "nbformat": 4,
  "nbformat_minor": 0,
  "metadata": {
    "colab": {
      "provenance": [],
      "collapsed_sections": [
        "YeYRnesWqvLm"
      ]
    },
    "kernelspec": {
      "name": "python3",
      "display_name": "Python 3"
    }
  },
  "cells": [
    {
      "cell_type": "markdown",
      "metadata": {
        "id": "9wUL_Fy5qUDI"
      },
      "source": [
        "# Machine Learning - Stochastic Gradient Descent & ID3 Decision Tree\n",
        "\n",
        "By **Christa Baca (@cjb-dev)**"
      ]
    },
    {
      "cell_type": "markdown",
      "metadata": {
        "id": "LzR4Ic34zJlT"
      },
      "source": [
        "\n",
        "## Description\n",
        "The goal of this program is to implement 2 machine learning (ML) algorithms, Stochastic Gradient Descent & ID3 Decision Tree, using different datasets for each algorithm respectively.\n"
      ]
    },
    {
      "cell_type": "markdown",
      "metadata": {
        "id": "vnPfmHAOteOI"
      },
      "source": [
        "## Part 1: Import Libraries\n",
        "The code here imports the libraries necessary for this program. I did not add any other libraries that weren't already in the skeleton code for the assignment, nor any premade ML libraries."
      ]
    },
    {
      "cell_type": "code",
      "metadata": {
        "id": "f9apbZGptej6"
      },
      "source": [
        "# import all required libraries\n",
        "import pandas as pd\n",
        "import numpy as np\n",
        "import matplotlib.pyplot as plt\n",
        "from numpy import dot\n",
        "import math\n",
        "from sklearn.metrics import mean_squared_error\n"
      ],
      "execution_count": null,
      "outputs": []
    },
    {
      "cell_type": "code",
      "source": [
        "from google.colab import drive\n",
        "drive.mount('/content/drive')\n"
      ],
      "metadata": {
        "id": "YVBLy7VUZqEl",
        "colab": {
          "base_uri": "https://localhost:8080/"
        },
        "outputId": "33f72e55-0407-4945-d864-25fec649cf39"
      },
      "execution_count": null,
      "outputs": [
        {
          "output_type": "stream",
          "name": "stdout",
          "text": [
            "Drive already mounted at /content/drive; to attempt to forcibly remount, call drive.mount(\"/content/drive\", force_remount=True).\n"
          ]
        }
      ]
    },
    {
      "cell_type": "code",
      "metadata": {
        "id": "3U0exJDO818p"
      },
      "source": [
        "# Assume that the data files are in the following folder\n",
        "basePath = \"/content/drive/My Drive/Colab Notebooks/Artificial Intelligence/Data/\"\n"
      ],
      "execution_count": null,
      "outputs": []
    },
    {
      "cell_type": "markdown",
      "metadata": {
        "id": "YeYRnesWqvLm"
      },
      "source": [
        "## Part 2: Stochastic Gradient Descent\n",
        "The following code blocks implement the Stochastic Gradient Descent algorithm for a **regression** task, using the 'house_price_dataset.csv' data file. \n",
        "\n",
        "About the data file:\n",
        "The first line contains the attribute names. All the other lines are different example instances to be used for the algorithm. Each column holds values of the attributes, whereas the last column holds the output value for that instance that the model should predict."
      ]
    },
    {
      "cell_type": "code",
      "source": [
        "# read the data file\n",
        "df = pd.read_csv(basePath+\"house_price_dataset.csv\")\n",
        "\n",
        "# create a normalized version of the original data which is what will be used by the algorithm\n",
        "# normalize data using the 0 to 1 scale:\n",
        "normalized_df = (df-df.min())/(df.max()-df.min())\n",
        "print(normalized_df)\n"
      ],
      "metadata": {
        "id": "MAQYE05KKaZj",
        "colab": {
          "base_uri": "https://localhost:8080/"
        },
        "outputId": "a92624ac-599b-4ac0-c2a8-5519a395e9e1"
      },
      "execution_count": null,
      "outputs": [
        {
          "output_type": "stream",
          "name": "stdout",
          "text": [
            "     X2 house age  X3 distance to the nearest station  \\\n",
            "0        0.730594                            0.009513   \n",
            "1        0.445205                            0.043809   \n",
            "2        0.303653                            0.083315   \n",
            "3        0.303653                            0.083315   \n",
            "4        0.114155                            0.056799   \n",
            "..            ...                                 ...   \n",
            "407      0.312785                            0.627820   \n",
            "408      0.127854                            0.010375   \n",
            "409      0.429224                            0.056861   \n",
            "410      0.184932                            0.012596   \n",
            "411      0.148402                            0.010375   \n",
            "\n",
            "     X4 number of convenience stores  X5 latitude  X6 longitude  \\\n",
            "0                                1.0     0.616941      0.719323   \n",
            "1                                0.9     0.584949      0.711451   \n",
            "2                                0.5     0.671231      0.758896   \n",
            "3                                0.5     0.671231      0.758896   \n",
            "4                                0.5     0.573194      0.743153   \n",
            "..                               ...          ...           ...   \n",
            "407                              0.0     0.114881      0.326504   \n",
            "408                              0.9     0.512118      0.750162   \n",
            "409                              0.7     0.571498      0.715225   \n",
            "410                              0.5     0.420141      0.723959   \n",
            "411                              0.9     0.512118      0.750162   \n",
            "\n",
            "     Y house price of unit area  \n",
            "0                      0.397914  \n",
            "1                      0.461997  \n",
            "2                      0.538003  \n",
            "3                      0.649776  \n",
            "4                      0.475410  \n",
            "..                          ...  \n",
            "407                    0.062593  \n",
            "408                    0.578241  \n",
            "409                    0.438152  \n",
            "410                    0.615499  \n",
            "411                    0.785395  \n",
            "\n",
            "[412 rows x 6 columns]\n"
          ]
        }
      ]
    },
    {
      "cell_type": "code",
      "metadata": {
        "id": "t-Fyljw1Mebg"
      },
      "source": [
        "# Activation Function - implement Sigmoid\n",
        "# given 'h' compute and return 'z' based on the activation function implemented\n",
        "def activation_function(h):\n",
        "    return 1/(1+math.exp(-h))\n"
      ],
      "execution_count": null,
      "outputs": []
    },
    {
      "cell_type": "code",
      "metadata": {
        "id": "_2KsnTwVM0Uq"
      },
      "source": [
        "# Train the model using the given training dataset and the learning rate\n",
        "# return the \"weights\" learnt for the perceptron - include the weight associated with bias as the last entry\n",
        "def train(train_data, weights, learning_rate):\n",
        "\n",
        "    # if weights are [] (empty)\n",
        "    if not weights: \n",
        "        # initialize weights to 0 -- number of weights = number of variables + 1 for bias\n",
        "        weights = [0 for i in range(len(train_data.columns))] # 5 x-variables + bias = 6 weights\n",
        "      \n",
        "    # go through each training data instance\n",
        "    for index, row in train_data.iterrows():\n",
        "        # get 'x' as one multi-variate data instance -- remember to append '1' at the end for the bias term\n",
        "        x = row[:-1].tolist()\n",
        "        x.append(1)\n",
        "        # get 'y' as the ground truth value, which is the last value in the given row\n",
        "        y = row[-1]\n",
        "        # obtain h(x) using dot product\n",
        "        h = np.dot(weights, x)\n",
        "        # call the activation function with 'h' as parameter to obtain 'z'\n",
        "        z = activation_function(h)\n",
        "\n",
        "        # update all weights individually using learning_rate, (y-z), and the corresponding 'x'\n",
        "        for index in range(len(weights)):\n",
        "          weights[index] = weights[index] + learning_rate * (y - z) * x[index]\n",
        "    \n",
        "    # return the final learnt weights\n",
        "    return weights\n"
      ],
      "execution_count": null,
      "outputs": []
    },
    {
      "cell_type": "code",
      "metadata": {
        "id": "07yBacyN4_V1"
      },
      "source": [
        "# Test the model (weights learnt) using the given test dataset\n",
        "# return the average error value\n",
        "def test(test_data, weights):\n",
        "    # initialize average error\n",
        "    average_error = 0.0\n",
        "\n",
        "    # go through each testing data instance\n",
        "    for index, row in test_data.iterrows():\n",
        "        # get 'x' as one multi-variate data instance -- remember to append '1' at the end for the bias term\n",
        "        x = row[:-1].tolist()\n",
        "        x.append(1)\n",
        "        # get 'y' as the ground truth value, which is the last value in the given row\n",
        "        y = row[-1]\n",
        "        # obtain h(x) using dot product\n",
        "        h = np.dot(weights, x)\n",
        "        # call the activation function with 'h' as parameter to obtain 'z' \n",
        "        z = activation_function(h)\n",
        "        # compare 'z' with 'y' to calculate the absolute error (not least squared) for each data instance\n",
        "        absolute_error = abs(z - y)\n",
        "        # add to average_error total\n",
        "        average_error = average_error + absolute_error\n",
        "\n",
        "    # calculate average error by dividing it by the length of the test dataset\n",
        "    average_error = average_error/len(test_data)\n",
        "\n",
        "    # return the average error value for the given test dataset\n",
        "    return average_error\n"
      ],
      "execution_count": null,
      "outputs": []
    },
    {
      "cell_type": "markdown",
      "source": [
        "Determine the **best learning rate** and then plot the graph for **training error vs learning rate**:"
      ],
      "metadata": {
        "id": "ZpV_UUjabZHh"
      }
    },
    {
      "cell_type": "code",
      "source": [
        "# Declare list variables to hold average errors and learning rates\n",
        "errors = []\n",
        "learning_rates = []\n",
        "\n",
        "# Go through all possible learning rates from 0 to 1 in increments of 0.01\n",
        "# For each learning rate\n",
        "for learning_rate in np.arange(0.01, 1.001, 0.01):\n",
        "    # initialize weights (currently empty array)\n",
        "    weights = []\n",
        "    # Call the above \"train\" function on the entire dataset to obtain the \"weights\"\n",
        "    weights = train(normalized_df, weights, learning_rate)\n",
        "    # Use the \"weights\" and call the \"test\" function to obtain the \"average_error\" for training\n",
        "    average_error = test(normalized_df, weights)\n",
        "    # Save this \"error\" in a list of errors\n",
        "    errors.append(average_error)\n",
        "    # Append the learning_rate to the learning_rates list\n",
        "    learning_rates.append(learning_rate)\n",
        "\n",
        "# once the error values are obtained for all the learning rates, find the best learning rate (one with the least error)\n",
        "# intialize variables to hold information to find best learning rate\n",
        "minimum_error = errors[0]\n",
        "best_learning_rate = 0.0\n",
        "\n",
        "# iterates through errors array\n",
        "for index in range(len(errors)):\n",
        "    # prints learning rate and error at current index\n",
        "    learning_rate_print_format = '{0:.2g}'.format(learning_rates[index]) # to round to 2 decimals\n",
        "    print(\"Error for LR of\", learning_rate_print_format, \"on Training Data =\", errors[index])\n",
        "    # if smaller error is discovered\n",
        "    if errors[index] < minimum_error:\n",
        "        # update minimum error\n",
        "        minimum_error = errors[index]\n",
        "        # update best_learning_rate associated with minimum error\n",
        "        best_learning_rate = learning_rates[index]\n",
        "\n",
        "# prints best learning rate (should be reflected on graph)\n",
        "print(\"\\nBest learning rate =\", best_learning_rate)\n",
        "\n",
        "# also, plot the graph of learning rate (x-axis) and average error (y-axis)\n",
        "plt.plot(learning_rates, errors)\n",
        "plt.xlabel(\"Learning Rate\")\n",
        "plt.ylabel(\"Average Error\")\n",
        "plt.show()\n"
      ],
      "metadata": {
        "id": "GiMvNHFcqETZ",
        "colab": {
          "base_uri": "https://localhost:8080/",
          "height": 1000
        },
        "outputId": "95a57b6f-4f8f-4b6e-f97f-1b64dd31077b"
      },
      "execution_count": null,
      "outputs": [
        {
          "output_type": "stream",
          "name": "stdout",
          "text": [
            "Error for LR of 0.01 on Training Data = 0.15100067604331127\n",
            "Error for LR of 0.02 on Training Data = 0.14275510234352257\n",
            "Error for LR of 0.03 on Training Data = 0.13527002197686636\n",
            "Error for LR of 0.04 on Training Data = 0.12866414677660634\n",
            "Error for LR of 0.05 on Training Data = 0.12308373765233763\n",
            "Error for LR of 0.06 on Training Data = 0.11847112989750898\n",
            "Error for LR of 0.07 on Training Data = 0.11449067389676167\n",
            "Error for LR of 0.08 on Training Data = 0.11108536271344145\n",
            "Error for LR of 0.09 on Training Data = 0.10809839349825949\n",
            "Error for LR of 0.1 on Training Data = 0.10550658637653625\n",
            "Error for LR of 0.11 on Training Data = 0.10324627418520473\n",
            "Error for LR of 0.12 on Training Data = 0.10129020449965692\n",
            "Error for LR of 0.13 on Training Data = 0.09955740809498081\n",
            "Error for LR of 0.14 on Training Data = 0.09801807641168167\n",
            "Error for LR of 0.15 on Training Data = 0.09668934531576938\n",
            "Error for LR of 0.16 on Training Data = 0.09550637462198872\n",
            "Error for LR of 0.17 on Training Data = 0.09443868989160459\n",
            "Error for LR of 0.18 on Training Data = 0.09346761993276471\n",
            "Error for LR of 0.19 on Training Data = 0.09259424583772008\n",
            "Error for LR of 0.2 on Training Data = 0.09180837651772021\n",
            "Error for LR of 0.21 on Training Data = 0.09108951400912632\n",
            "Error for LR of 0.22 on Training Data = 0.09042555421666384\n",
            "Error for LR of 0.23 on Training Data = 0.08981803679144895\n",
            "Error for LR of 0.24 on Training Data = 0.08927894387946736\n",
            "Error for LR of 0.25 on Training Data = 0.08879722109792935\n",
            "Error for LR of 0.26 on Training Data = 0.08837735289551844\n",
            "Error for LR of 0.27 on Training Data = 0.08800692209198482\n",
            "Error for LR of 0.28 on Training Data = 0.08767655657598167\n",
            "Error for LR of 0.29 on Training Data = 0.08738809241872894\n",
            "Error for LR of 0.3 on Training Data = 0.08714640260536496\n",
            "Error for LR of 0.31 on Training Data = 0.08695213418098689\n",
            "Error for LR of 0.32 on Training Data = 0.08678024216620671\n",
            "Error for LR of 0.33 on Training Data = 0.08664723462910173\n",
            "Error for LR of 0.34 on Training Data = 0.08654951685923387\n",
            "Error for LR of 0.35 on Training Data = 0.08646942808871626\n",
            "Error for LR of 0.36 on Training Data = 0.08641276640118581\n",
            "Error for LR of 0.37 on Training Data = 0.08640947922592566\n",
            "Error for LR of 0.38 on Training Data = 0.08645677424254289\n",
            "Error for LR of 0.39 on Training Data = 0.0865252542816151\n",
            "Error for LR of 0.4 on Training Data = 0.08663475519532637\n",
            "Error for LR of 0.41 on Training Data = 0.08676829284990527\n",
            "Error for LR of 0.42 on Training Data = 0.08692442202657234\n",
            "Error for LR of 0.43 on Training Data = 0.08710203491287487\n",
            "Error for LR of 0.44 on Training Data = 0.08731559997758624\n",
            "Error for LR of 0.45 on Training Data = 0.08757609747195536\n",
            "Error for LR of 0.46 on Training Data = 0.08786032145891716\n",
            "Error for LR of 0.47 on Training Data = 0.08816779929445774\n",
            "Error for LR of 0.48 on Training Data = 0.08850847672059474\n",
            "Error for LR of 0.49 on Training Data = 0.08887801722701714\n",
            "Error for LR of 0.5 on Training Data = 0.08929258546873071\n",
            "Error for LR of 0.51 on Training Data = 0.08973627795447255\n",
            "Error for LR of 0.52 on Training Data = 0.0902061042230494\n",
            "Error for LR of 0.53 on Training Data = 0.09069657858950281\n",
            "Error for LR of 0.54 on Training Data = 0.09121464919284454\n",
            "Error for LR of 0.55 on Training Data = 0.09175023120659666\n",
            "Error for LR of 0.56 on Training Data = 0.09229966196618092\n",
            "Error for LR of 0.57 on Training Data = 0.09287314645689435\n",
            "Error for LR of 0.58 on Training Data = 0.09345956851377471\n",
            "Error for LR of 0.59 on Training Data = 0.09407881456488895\n",
            "Error for LR of 0.6 on Training Data = 0.09472751022142636\n",
            "Error for LR of 0.61 on Training Data = 0.09541992536870737\n",
            "Error for LR of 0.62 on Training Data = 0.09613235706226574\n",
            "Error for LR of 0.63 on Training Data = 0.09686133022128744\n",
            "Error for LR of 0.64 on Training Data = 0.09761436760167094\n",
            "Error for LR of 0.65 on Training Data = 0.09837549696505377\n",
            "Error for LR of 0.66 on Training Data = 0.09913719940853889\n",
            "Error for LR of 0.67 on Training Data = 0.09989797745696487\n",
            "Error for LR of 0.68 on Training Data = 0.10066373851808356\n",
            "Error for LR of 0.69 on Training Data = 0.10143308780926685\n",
            "Error for LR of 0.7 on Training Data = 0.1022080489663376\n",
            "Error for LR of 0.71 on Training Data = 0.10299991799201522\n",
            "Error for LR of 0.72 on Training Data = 0.10379251348845946\n",
            "Error for LR of 0.73 on Training Data = 0.10458567761113985\n",
            "Error for LR of 0.74 on Training Data = 0.1053823389547598\n",
            "Error for LR of 0.75 on Training Data = 0.10617962292217056\n",
            "Error for LR of 0.76 on Training Data = 0.10698198626692275\n",
            "Error for LR of 0.77 on Training Data = 0.1077862836559033\n",
            "Error for LR of 0.78 on Training Data = 0.10860292882818527\n",
            "Error for LR of 0.79 on Training Data = 0.10942780118350967\n",
            "Error for LR of 0.8 on Training Data = 0.11026418917035323\n",
            "Error for LR of 0.81 on Training Data = 0.1110999414932249\n",
            "Error for LR of 0.82 on Training Data = 0.11195051471195981\n",
            "Error for LR of 0.83 on Training Data = 0.11281813435205285\n",
            "Error for LR of 0.84 on Training Data = 0.11370410205644925\n",
            "Error for LR of 0.85 on Training Data = 0.11459237813219146\n",
            "Error for LR of 0.86 on Training Data = 0.11548313957364513\n",
            "Error for LR of 0.87 on Training Data = 0.11636771029127792\n",
            "Error for LR of 0.88 on Training Data = 0.11724687768954932\n",
            "Error for LR of 0.89 on Training Data = 0.11812876560762452\n",
            "Error for LR of 0.9 on Training Data = 0.11903250115298093\n",
            "Error for LR of 0.91 on Training Data = 0.11994477554432888\n",
            "Error for LR of 0.92 on Training Data = 0.1208642586321151\n",
            "Error for LR of 0.93 on Training Data = 0.12179152762158774\n",
            "Error for LR of 0.94 on Training Data = 0.12271572648613353\n",
            "Error for LR of 0.95 on Training Data = 0.12366404066349312\n",
            "Error for LR of 0.96 on Training Data = 0.12461429078949572\n",
            "Error for LR of 0.97 on Training Data = 0.1255568077934509\n",
            "Error for LR of 0.98 on Training Data = 0.12649157298042335\n",
            "Error for LR of 0.99 on Training Data = 0.12742761540058378\n",
            "Error for LR of 1 on Training Data = 0.12836204632644682\n",
            "\n",
            "Best learning rate = 0.37\n"
          ]
        },
        {
          "output_type": "display_data",
          "data": {
            "text/plain": [
              "<Figure size 432x288 with 1 Axes>"
            ],
            "image/png": "[encoded data removed]"
          },
          "metadata": {
            "needs_background": "light"
          }
        }
      ]
    },
    {
      "cell_type": "markdown",
      "source": [
        "Splits the dataset into two parts **(train and test)**. Performs 20 iterations on the dataset to obtain the **average errors** and **see how it changes with each iteration**."
      ],
      "metadata": {
        "id": "17W-yBb0fnLk"
      }
    },
    {
      "cell_type": "code",
      "source": [
        "# Split the entire dataset randomly into two different parts --\n",
        "# \"train_data\" - 70% of the entire data\n",
        "train_data = df.sample(frac = 0.70) # using df that has not yet been normalized like above\n",
        "# \"test_data\" - remaining 30% of the data\n",
        "test_data = df.drop(train_data.index)\n",
        "\n",
        "# Normalize both of them\n",
        "train_data = (train_data-train_data.min())/(train_data.max()-train_data.min())\n",
        "test_data = (test_data-test_data.min())/(test_data.max()-test_data.min())\n",
        "\n",
        "# Use the \"best_learning_rate\" found above\n",
        "# Start the weights = []\n",
        "updated_weights = []\n",
        "\n",
        "# for extra credit: creates lists to hold average training & testing errors\n",
        "average_training_errors = []\n",
        "average_testing_errors = []\n",
        "\n",
        "# Perform 20 iterations on the entire dataset and for each iteration\n",
        "for index in range(20):\n",
        "    # Call the above \"train\" function on the \"train_data\" to obtain the updated \"weights\"\n",
        "    updated_weights = train(train_data, updated_weights, best_learning_rate)\n",
        "    # Use the \"weights\" and call the \"test\" function to obtain the \"average_training_error\" for the \"train_data\"\n",
        "    average_training_error = test(train_data, updated_weights)\n",
        "    # append to average training errors list\n",
        "    average_training_errors.append(average_training_error)\n",
        "    # Use the \"weights\" and call the \"test\" function to obtain the \"average_testing_error\" for the \"test_data\"\n",
        "    average_testing_error = test(test_data, updated_weights)\n",
        "    # append to average testing errors list\n",
        "    average_testing_errors.append(average_testing_error)\n",
        "    # Print both the average errors for the given iteration number\n",
        "    print(\"Error for iteration\", (index + 1), 'on Training data =', average_training_error)\n",
        "    print(\"Error for iteration\", (index + 1), 'on Testing data =', average_testing_error)\n"
      ],
      "metadata": {
        "id": "WwqFb6a2iyTY",
        "colab": {
          "base_uri": "https://localhost:8080/"
        },
        "outputId": "8c3a9118-7097-4cea-cf93-2b53ffb3a824"
      },
      "execution_count": null,
      "outputs": [
        {
          "output_type": "stream",
          "name": "stdout",
          "text": [
            "Error for iteration 1 on Training data = 0.1265490063001127\n",
            "Error for iteration 1 on Testing data = 0.12177008641923465\n",
            "Error for iteration 2 on Training data = 0.11976834961610747\n",
            "Error for iteration 2 on Testing data = 0.11795981190702756\n",
            "Error for iteration 3 on Training data = 0.11580337453621573\n",
            "Error for iteration 3 on Testing data = 0.11692855548658862\n",
            "Error for iteration 4 on Training data = 0.11356119030132739\n",
            "Error for iteration 4 on Testing data = 0.11661907896904192\n",
            "Error for iteration 5 on Training data = 0.11218183029814537\n",
            "Error for iteration 5 on Testing data = 0.1167336876421975\n",
            "Error for iteration 6 on Training data = 0.11132470985704473\n",
            "Error for iteration 6 on Testing data = 0.11686950146608295\n",
            "Error for iteration 7 on Training data = 0.11074194558287494\n",
            "Error for iteration 7 on Testing data = 0.11694705740584226\n",
            "Error for iteration 8 on Training data = 0.11034535135257875\n",
            "Error for iteration 8 on Testing data = 0.1169841117031696\n",
            "Error for iteration 9 on Training data = 0.11006500574454264\n",
            "Error for iteration 9 on Testing data = 0.11698712646311525\n",
            "Error for iteration 10 on Training data = 0.10986631347609038\n",
            "Error for iteration 10 on Testing data = 0.11696566907259363\n",
            "Error for iteration 11 on Training data = 0.1097174214779061\n",
            "Error for iteration 11 on Testing data = 0.11693081510844142\n",
            "Error for iteration 12 on Training data = 0.1096028570069739\n",
            "Error for iteration 12 on Testing data = 0.11688929474197098\n",
            "Error for iteration 13 on Training data = 0.109512268081148\n",
            "Error for iteration 13 on Testing data = 0.11684517032520826\n",
            "Error for iteration 14 on Training data = 0.10943869847500731\n",
            "Error for iteration 14 on Testing data = 0.11680085620607014\n",
            "Error for iteration 15 on Training data = 0.1093827428286344\n",
            "Error for iteration 15 on Testing data = 0.11675774664343275\n",
            "Error for iteration 16 on Training data = 0.10933624106983789\n",
            "Error for iteration 16 on Testing data = 0.11671660591077826\n",
            "Error for iteration 17 on Training data = 0.10929616062522546\n",
            "Error for iteration 17 on Testing data = 0.11667781191410405\n",
            "Error for iteration 18 on Training data = 0.10926104333684816\n",
            "Error for iteration 18 on Testing data = 0.11664150860557114\n",
            "Error for iteration 19 on Training data = 0.10922986641733654\n",
            "Error for iteration 19 on Testing data = 0.1166077012221101\n",
            "Error for iteration 20 on Training data = 0.10920190054571627\n",
            "Error for iteration 20 on Testing data = 0.11657631555086004\n"
          ]
        }
      ]
    },
    {
      "cell_type": "markdown",
      "metadata": {
        "id": "lYxmgcnes9cS"
      },
      "source": [
        "### Accuracy Plots\n",
        "The following code displays graphs using the above accuracy results on the training and testing data.\n"
      ]
    },
    {
      "cell_type": "code",
      "source": [
        "# Save the above calculated error values \"average_training_error\" and \"average_testing_error\" in two different lists\n",
        "# For each of the two average errors, plot a graph for iteration-number (x-axis) and average error (y-axis)\n",
        "# plots average training errors\n",
        "fig1 = plt.figure(\"Figure 1\")\n",
        "plt.plot(average_training_errors)\n",
        "plt.xlabel(\"Iterations\")\n",
        "plt.ylabel(\"Average Training Error\")\n",
        "\n",
        "# plots average testin errors\n",
        "fig2 = plt.figure(\"Figure 2\")\n",
        "plt.plot(average_testing_errors)\n",
        "plt.xlabel(\"Iterations\")\n",
        "plt.ylabel(\"Average Testing Error\")\n",
        "plt.show\n"
      ],
      "metadata": {
        "id": "aR5C7libnWZd",
        "colab": {
          "base_uri": "https://localhost:8080/",
          "height": 561
        },
        "outputId": "c515da1b-1401-47a8-f8d3-99efb451c36f"
      },
      "execution_count": null,
      "outputs": [
        {
          "output_type": "execute_result",
          "data": {
            "text/plain": [
              "<function matplotlib.pyplot.show(*args, **kw)>"
            ]
          },
          "metadata": {},
          "execution_count": 109
        },
        {
          "output_type": "display_data",
          "data": {
            "text/plain": [
              "<Figure size 432x288 with 1 Axes>"
            ],
            "image/png": "[encoded data removed]"
          },
          "metadata": {
            "needs_background": "light"
          }
        },
        {
          "output_type": "display_data",
          "data": {
            "text/plain": [
              "<Figure size 432x288 with 1 Axes>"
            ],
            "image/png": "[encoded data removed]"
          },
          "metadata": {
            "needs_background": "light"
          }
        }
      ]
    },
    {
      "cell_type": "markdown",
      "metadata": {
        "id": "onnqJYTEq0l3"
      },
      "source": [
        "## Part 3: ID3 Decision Tree\n",
        "The following code blocks implement the ID3 Decision Tree algorithm. The training is for a **binary classification** task, i.e. each instance will have a class value of 0 or 1. It is assumed that there are **no missing values** in the train or test data. \n",
        "\n",
        "Here are the names of the data files that will be used:\n",
        "\n",
        "*   Training file - 'id3-train.dat'\n",
        "*   Testing file - 'id3-test.dat'\n",
        "\n",
        "*Note: Both these files should be present in the same folder as this code file.* In these files, only non-space characters are relevant. The first line contains the attribute names. All the other lines are example instances to be used for the algorithm. Each column holds values of the attributes, whereas the last column holds the class label for that instance.\n",
        "\n",
        "In the decision tree, if a leaf node is reached but there are still examples that belong to different classes, then choose the most frequent class (among the instances at the leaf node). If a leaf node is reached in the decision tree and there are no examples left, or the examples are equally split among multiple classes, then choose the class that is most frequent in the entire training set (no pruning required). *Note: Also, don’t forget to use logarithm base 2 when computing entropy and set (0 log 0) to 0.*\n",
        "\n",
        "The output should showcase the following:\n",
        "\n",
        "*   The Decision Tree created, in the following example format:\n",
        "\n",
        "    ```\n",
        "    attr1 = 0 :\n",
        "        attr2 = 0 :\n",
        "            attr3 = 0 : 1   --   15\n",
        "            attr3 = 1 : 0   --   7\n",
        "        attr3 = 1 :\n",
        "            attr4 = 0 : 0   --   12\n",
        "            attr4 = 1 : 1   --   6\n",
        "    attr1 = 1 :\n",
        "        attr2 = 1 : 1   --   9\n",
        "\n",
        "    ```\n",
        "\n",
        "*   Accuracy on the Training data = x %\n",
        "*   Accuracy on the Test data = x %\n",
        "\n",
        "\n",
        "\n",
        "\n"
      ]
    },
    {
      "cell_type": "code",
      "source": [
        "# Read data files\n",
        "#data = pd.read_csv(basePath+\"id3-weather-train.dat\", sep=\"\\s+\")\n",
        "data = pd.read_csv(basePath+\"id3-train.dat\", sep=\"\\s+\")\n",
        "entire_data = data\n",
        "print(data)\n"
      ],
      "metadata": {
        "id": "IZutxlsOKwwR",
        "colab": {
          "base_uri": "https://localhost:8080/"
        },
        "outputId": "bdf1316b-5751-4911-fc16-d605f92644b8"
      },
      "execution_count": null,
      "outputs": [
        {
          "output_type": "stream",
          "name": "stdout",
          "text": [
            "     attr1  attr2  attr3  attr4  attr5  attr6  class\n",
            "0        1      1      0      0      0      0      0\n",
            "1        0      0      1      1      0      1      0\n",
            "2        0      1      0      1      1      0      0\n",
            "3        0      0      1      0      0      1      1\n",
            "4        0      1      0      0      0      0      0\n",
            "..     ...    ...    ...    ...    ...    ...    ...\n",
            "795      1      0      0      0      0      1      0\n",
            "796      1      0      0      1      0      0      0\n",
            "797      0      0      0      1      1      0      1\n",
            "798      0      1      1      1      0      1      1\n",
            "799      1      1      0      0      1      0      0\n",
            "\n",
            "[800 rows x 7 columns]\n"
          ]
        }
      ]
    },
    {
      "cell_type": "markdown",
      "source": [
        "Additional functions to **calculate entropy**, **information gain**, and **determine the best split attribute**:"
      ],
      "metadata": {
        "id": "AzkrLm1HN11o"
      }
    },
    {
      "cell_type": "code",
      "source": [
        "# function for calculating entropy & conditional entropy\n",
        "def calculate_entropy(data, attribute):\n",
        "    # calculates entropy for the class (last column)\n",
        "    if attribute == 'class':\n",
        "        # initialize variables\n",
        "        t_values = len(data[data['class'] == 1]) # holds True / 1 values\n",
        "        f_values = len(data[data['class'] == 0]) # holds False / 0 values\n",
        "        num_rows = data.shape[0] \n",
        "\n",
        "        # perform entropy calculation\n",
        "        entropy = ((-t_values / num_rows) * math.log((t_values / num_rows), 2) + (-f_values / num_rows) * math.log((f_values / num_rows), 2))\n",
        "\n",
        "        # return entropy for class\n",
        "        return entropy\n",
        "\n",
        "    # calculates entropy for a non-class attribute\n",
        "    else:\n",
        "        # initialize variables\n",
        "        conditional_entropy = 0.0\n",
        "\n",
        "        # finds all unique values for the given attribute (ex: Outlook has 3 unique values for Sunny, Overcast, Rainy...)\n",
        "        unique_values = np.unique(data[attribute])\n",
        "        # iterates through each value in unique values list\n",
        "        for unique_value in unique_values:\n",
        "            # creates a sub-set of the original data based on the current unique attribute value (ex: only the subset of data for Outlook = Sunny)\n",
        "            sub_data = data[data[attribute] == unique_value]\n",
        "            # initialize variables\n",
        "            t_values = len(sub_data[sub_data['class'] == 1])\n",
        "            f_values = len(sub_data[sub_data['class'] == 0])\n",
        "            num_rows = sub_data.shape[0]\n",
        "\n",
        "            # if either t_values or f_values = 0, set the entropy to 0 to avoid errors with math.log\n",
        "            if t_values == 0 or f_values == 0:\n",
        "                # sets entropy to zero\n",
        "                entropy = 0\n",
        "            # otherwise, proceed to calculate non-zero entropy\n",
        "            else:\n",
        "                # perform entropy calculation\n",
        "                entropy = ((-t_values / num_rows) * math.log((t_values / num_rows), 2) + (-f_values / num_rows) * math.log((f_values / num_rows), 2))\n",
        "                # add the above result to calculate the average entropy\n",
        "                conditional_entropy = conditional_entropy + ((num_rows / len(data)) * entropy)\n",
        "\n",
        "        # return average entropy for non-class attribtue\n",
        "        return conditional_entropy\n"
      ],
      "metadata": {
        "id": "EJWAjXSuR5Xs"
      },
      "execution_count": null,
      "outputs": []
    },
    {
      "cell_type": "code",
      "source": [
        "# function for calculating information gain\n",
        "def information_gain(data, attribute):\n",
        "  # calculate entropy for class\n",
        "  class_entropy = calculate_entropy(data, 'class')\n",
        "  # calculate average entropy for other attribute\n",
        "  atrribute_conditional_entropy = calculate_entropy(data, attribute)\n",
        "  # calculate IG by subtracting average entropy for attribute from entropy for class\n",
        "  info_gain = class_entropy - atrribute_conditional_entropy\n",
        "\n",
        "  # return information gain the passed attribute\n",
        "  return info_gain\n"
      ],
      "metadata": {
        "id": "0PIF8iHiT1-s"
      },
      "execution_count": null,
      "outputs": []
    },
    {
      "cell_type": "code",
      "source": [
        "# function to determine best variable to split on\n",
        "def best_split_attribute(data, attributesRemaining):\n",
        "    # initialize variables\n",
        "    IG_list = [] \n",
        "    split_attribute = attributesRemaining[0] # initialized like so to return a non-blank split attribute/help avoid execution error\n",
        "\n",
        "    # iterates through all passed-in attributes\n",
        "    for index in range(len(attributesRemaining)):\n",
        "        if attributesRemaining[index] != 'class':\n",
        "            # call on the information gain function for this attribute\n",
        "            info_gain = information_gain(data, attributesRemaining[index])\n",
        "            # append the info gained to a list containing elements (attribute, associated info gain)\n",
        "            IG_list.append(info_gain)\n",
        "\n",
        "    # determine attribute with maximum info gain\n",
        "    # initialize max value\n",
        "    max_info_gain = IG_list[0]\n",
        "\n",
        "    # iterate through info gain list from earlier\n",
        "    for index in range(len(IG_list)):\n",
        "        # determine if current info gain is higher than previous\n",
        "        if IG_list[index] > max_info_gain:\n",
        "            # update highest info gain found\n",
        "            max_info_gain = IG_list[index]\n",
        "            # update split attribute associated with highest info gain\n",
        "            split_attribute = attributesRemaining[index]\n",
        "\n",
        "    # return best attribute to split\n",
        "    return split_attribute \n",
        "  "
      ],
      "metadata": {
        "id": "1MYn7xTCZeLo"
      },
      "execution_count": null,
      "outputs": []
    },
    {
      "cell_type": "markdown",
      "source": [
        "Added a class to create structure for Node objects in the decision tree:"
      ],
      "metadata": {
        "id": "CBtSVYG1OA6M"
      }
    },
    {
      "cell_type": "code",
      "source": [
        "# Create node class to make decision tree\n",
        "class Node(object):\n",
        "    # define node variables\n",
        "    def __init__(self, parent = None):\n",
        "        # general items for nodes:\n",
        "        self.children = [] # array of child nodes (addresses)\n",
        "        self.split_attribute = None # the attribute used to split (a string, ex: 'attr1')\n",
        "        self.parent_value = None # a value from the parent node (ex: for parent Outlook, values are Sunny (0), Overcast (1), Rainy (2), etc.)\n",
        "        self.parent = parent # parent node, passed in\n",
        "\n",
        "        # made specifically for leaf nodes:\n",
        "        self.class_output_label = None \n",
        "        self.num_rows = None \n",
        "        self.is_leaf = False\n",
        "\n",
        "\n",
        "    # function to print node object details\n",
        "    def print_obj(self):\n",
        "        print('children =\\t', self.children)\n",
        "        print('split attr =\\t', self.split_attribute)\n",
        "        print('parent =\\t', self.parent)\n",
        "        print('parent value =\\t', self.parent_value)\n",
        "        print('num_rows =\\t', self.num_rows)\n",
        "        print('class label =\\t', self.class_output_label)\n",
        "        print('is leaf = \\t', self.is_leaf)\n",
        "        print()\n"
      ],
      "metadata": {
        "id": "b7DBawgIIl0X"
      },
      "execution_count": null,
      "outputs": []
    },
    {
      "cell_type": "markdown",
      "source": [
        "ID3 function for creating decision tree:"
      ],
      "metadata": {
        "id": "LTyN0kXpOITZ"
      }
    },
    {
      "cell_type": "code",
      "metadata": {
        "id": "TFn9NH4VmtP3"
      },
      "source": [
        "# Pseudocode for the ID3 algorithm. Use this to create function(s).\n",
        "# def ID3(data, root, attributesRemaining):\n",
        "def ID3(data, root, attributesRemaining):\n",
        "    # initialize variables \n",
        "    t_values = len(data[data['class'] == 1]) # holds True / 1 values\n",
        "    f_values = len(data[data['class'] == 0]) # holds False / 0 values\n",
        "\n",
        "    # If you reach a leaf node in the decision tree and have no examples (rows) left or the examples are equally split among multiple classes\n",
        "    if not attributesRemaining and ((data.shape[0] == 0) or (t_values == f_values)): \n",
        "        # Choose and assign the class that is most frequent in the entire training set and return the updated tree\n",
        "        root.class_output_label = entire_data.mode()['class'][0]\n",
        "        root.is_leaf = True\n",
        "        return root\n",
        "\n",
        "    # If all the instances have only one class label\n",
        "    # Make this as the leaf node and use the label as the class value of the node and return the updated tree\n",
        "    # if all classes are 1, change output label to 1\n",
        "    if t_values == data.shape[0]: \n",
        "        root.class_output_label = 1\n",
        "        root.is_leaf = True\n",
        "        return root\n",
        "    # if all classes are 0, change output label to 0\n",
        "    elif f_values == data.shape[0]:\n",
        "        root.class_output_label = 0\n",
        "        root.is_leaf = True\n",
        "        return root\n",
        "\n",
        "    # If you reached a leaf node but still have examples that belong to different classes (there are no remaining attributes to be split)\n",
        "    if not attributesRemaining and (t_values != f_values):\n",
        "        # Assign the most frequent class among the instances at the leaf node and return the updated tree\n",
        "        root.class_output_label = data.mode()['class'][0]\n",
        "        root.is_leaf = True\n",
        "        return root\n",
        "\n",
        "    # Below is the code for the splitting process...\n",
        "    # Find the best attribute to split by calculating the maximum information gain from the attributes remaining by calculating the entropy\n",
        "    split_attr = best_split_attribute(data, attributesRemaining)\n",
        "    # Split the tree using the best attribute and recursively call the ID3 function using DFS to fill the sub-tree\n",
        "    attRem = attributesRemaining.copy() # create a copy of the attributesRemaining to not mess with it \n",
        "    attRem.remove(split_attr)\n",
        "    # update root node with split attribute decision\n",
        "    root.split_attribute = split_attr\n",
        "\n",
        "    # find all unique values in split attribute\n",
        "    unique_values = np.unique(data[split_attr])\n",
        "    # for each unique val for split_attr:\n",
        "    for unique_val in unique_values:\n",
        "        # sub_data = rows where split_attr value = val\n",
        "        sub_data = data[data[split_attr] == unique_val] \n",
        "\n",
        "        # child = create a child node for that value\n",
        "        child = Node(root)\n",
        "        child.num_rows = sub_data.shape[0] # updates rows for child node\n",
        "        child.parent_value = unique_val \n",
        "        # append the child to the root node\n",
        "        root.children.append(child)\n",
        "\n",
        "        # Recursive call ID3(sub_data, child, attributesRemaining)\n",
        "        ID3(sub_data, child, attRem)\n",
        "\n",
        "    # return the root as the tree\n",
        "    return root\n"
      ],
      "execution_count": null,
      "outputs": []
    },
    {
      "cell_type": "markdown",
      "source": [
        "These last functions are for traversing the tree, printing it, and predicting the accuracy when tested using the specified files:"
      ],
      "metadata": {
        "id": "XHFUdOVAOYG0"
      }
    },
    {
      "cell_type": "code",
      "metadata": {
        "id": "XELGzRDftS77"
      },
      "source": [
        "# traverses tree using DFS\n",
        "# initialize variables \n",
        "tabs = ''\n",
        "\n",
        "# function for DFS traversal method to print generated ID3 tree\n",
        "def depth_first_search(root, tabs):\n",
        "    # for printing leaves:\n",
        "    if root.is_leaf == True:\n",
        "        print(tabs, root.parent.split_attribute, '=', root.parent_value, ':', root.class_output_label, '--', root.num_rows) \n",
        "    # for printing non-leaf nodes:\n",
        "    else:\n",
        "        # increase tabs\n",
        "        tabs += '    '\n",
        "\n",
        "        # print node (with newline afterwards) if it has non-leaf children\n",
        "        for child in root.children:\n",
        "            if child.is_leaf == False:\n",
        "                print(tabs, root.split_attribute, '=', child.parent_value)\n",
        "              \n",
        "            # recursive call for DFS\n",
        "            depth_first_search(child, tabs)\n"
      ],
      "execution_count": null,
      "outputs": []
    },
    {
      "cell_type": "code",
      "source": [
        "# read in data files for training/testing accuracy\n",
        "training_data = entire_data # unedited copy from earlier, since the above tree just uses id3-test.dat\n",
        "testing_data = pd.read_csv(basePath+\"id3-test.dat\", sep=\"\\s+\")\n"
      ],
      "metadata": {
        "id": "F4A2RXutHowa"
      },
      "execution_count": null,
      "outputs": []
    },
    {
      "cell_type": "code",
      "source": [
        "# function to predict class output values from a given dataset (using the DFS traversal method like above)\n",
        "def predict(root, data_row):\n",
        "    # if the node reached is a leaf, return the class output label\n",
        "    if root.is_leaf == True:           \n",
        "        return root.class_output_label\n",
        "\n",
        "    # otherwise, for each child in the current node\n",
        "    for child in root.children:\n",
        "        # if the child's parent value is equal to the data row's value at the root's split attribute\n",
        "        if child.parent_value == data_row[root.split_attribute]:\n",
        "          # set child as the root\n",
        "          root = child\n",
        "          # break from loop\n",
        "          break\n",
        "    \n",
        "    # continue to traverse through tree with recursive call\n",
        "    return predict(root, data_row)\n"
      ],
      "metadata": {
        "id": "6JLvKlQRHUZs"
      },
      "execution_count": null,
      "outputs": []
    },
    {
      "cell_type": "code",
      "source": [
        "# function to udpate prediction results array based off answers from predict function\n",
        "def predict_results_per_row(root, data):\n",
        "    #array to hold results of prediction\n",
        "    prediction_results = [0] * data.shape[0]\n",
        "\n",
        "    # send in each row to get prediction function\n",
        "    for index, row in data.iterrows():\n",
        "        # set data instance row as current row\n",
        "        data_row = row\n",
        "        # send each row from dataset into prediction function\n",
        "        prediction_results[index] = predict(root, data_row)\n",
        "\n",
        "    # return results array\n",
        "    return prediction_results\n"
      ],
      "metadata": {
        "id": "Q-ZPJtcHIYgj"
      },
      "execution_count": null,
      "outputs": []
    },
    {
      "cell_type": "code",
      "source": [
        "# Create the decision tree by implementing the ID3 algorithm. Pseudocode provided above.\n",
        "attributesRemaining = data.columns # initialize attributesRemaining before calling ID3 function\n",
        "attributesRemaining = list(attributesRemaining[0:-1])\n",
        "# Call function to create tree\n",
        "root = ID3(data, Node(), attributesRemaining)\n",
        "\n",
        "# Use the above created tree to predict the training data and print the accuracy as \"Accuracy on the Training data = x %\"\n",
        "# For each training instance, predict the output label\n",
        "train_prediction_results = predict_results_per_row(root, training_data)\n",
        "\n",
        "# initialize variables\n",
        "training_accuracy = 0.0\n",
        "\n",
        "# iterate through training dataset to compare values\n",
        "for index, row in training_data.iterrows():\n",
        "    # Compare it with the ground truth class label and calculate the accuracy accordingly\n",
        "    if train_prediction_results[index] == row['class']:\n",
        "        # increment training accuracy for each correct prediction\n",
        "        training_accuracy = training_accuracy + 1\n",
        "\n",
        "# print(\"Accuracy on the Training data = \", accuracy, \"%\")\n",
        "print('Accuracy on the Training data =', (training_accuracy / training_data.shape[0]))\n",
        "\n",
        "\n",
        "# Use the above created tree to predict the testing data and print the accuracy as \"Accuracy on the Test data = x %\"\n",
        "# For each testing instance, predict the output label\n",
        "test_prediction_results = predict_results_per_row(root, testing_data)\n",
        "    \n",
        "# initialize variables\n",
        "testing_accuracy = 0.0\n",
        "\n",
        "# iterate through testing dataset to compare values\n",
        "for index, row in testing_data.iterrows():\n",
        "    # Compare it with the ground truth class label and calculate the accuracy accordingly\n",
        "    if test_prediction_results[index] == row['class']:\n",
        "        # increment testing accuracy for each correct prediction\n",
        "        testing_accuracy = testing_accuracy + 1\n",
        "\n",
        "#print(\"Accuracy on the Test data = \", accuracy, \"%\")      \n",
        "print('Accuracy on the Test data =', (testing_accuracy / testing_data.shape[0]))\n",
        "print()\n",
        "\n",
        "# function to print tree using DFS\n",
        "print('Generated decision tree:')\n",
        "depth_first_search(root, tabs)\n"
      ],
      "metadata": {
        "colab": {
          "base_uri": "https://localhost:8080/"
        },
        "id": "Vevr75LcDW7x",
        "outputId": "49e855a1-a740-4db9-e6ea-dd5cf081b07f"
      },
      "execution_count": null,
      "outputs": [
        {
          "output_type": "stream",
          "name": "stdout",
          "text": [
            "Accuracy on the Training data = 0.89375\n",
            "Accuracy on the Test data = 0.8719211822660099\n",
            "\n",
            "Generated decision tree:\n",
            "     attr5 = 0\n",
            "         attr6 = 0\n",
            "             attr2 = 0\n",
            "                 attr1 = 0\n",
            "                     attr4 = 0\n",
            "                         attr3 = 0 : 0 -- 9\n",
            "                         attr3 = 1 : 0 -- 12\n",
            "                     attr4 = 1\n",
            "                         attr3 = 0 : 0 -- 13\n",
            "                         attr3 = 1 : 0 -- 14\n",
            "                 attr1 = 1\n",
            "                     attr4 = 0\n",
            "                         attr3 = 0 : 0 -- 15\n",
            "                         attr3 = 1 : 0 -- 10\n",
            "                     attr4 = 1 : 0 -- 30\n",
            "             attr2 = 1\n",
            "                 attr4 = 0\n",
            "                     attr3 = 0 : 0 -- 25\n",
            "                     attr3 = 1\n",
            "                         attr1 = 0 : 0 -- 11\n",
            "                         attr1 = 1 : 0 -- 18\n",
            "                 attr4 = 1\n",
            "                     attr1 = 0\n",
            "                         attr3 = 0 : 0 -- 10\n",
            "                         attr3 = 1 : 0 -- 18\n",
            "                     attr1 = 1\n",
            "                         attr3 = 0 : 0 -- 12\n",
            "                         attr3 = 1 : 0 -- 17\n",
            "         attr6 = 1\n",
            "             attr4 = 0\n",
            "                 attr2 = 0\n",
            "                     attr3 = 0\n",
            "                         attr1 = 0 : 0 -- 11\n",
            "                         attr1 = 1 : 0 -- 13\n",
            "                     attr3 = 1\n",
            "                         attr1 = 0 : 0 -- 9\n",
            "                         attr1 = 1 : 0 -- 9\n",
            "                 attr2 = 1\n",
            "                     attr1 = 0\n",
            "                         attr3 = 0 : 0 -- 10\n",
            "                         attr3 = 1 : 0 -- 11\n",
            "                     attr1 = 1\n",
            "                         attr3 = 0 : 0 -- 14\n",
            "                         attr3 = 1 : 0 -- 16\n",
            "             attr4 = 1\n",
            "                 attr2 = 0\n",
            "                     attr1 = 0\n",
            "                         attr3 = 0 : 0 -- 18\n",
            "                         attr3 = 1 : 0 -- 12\n",
            "                     attr1 = 1\n",
            "                         attr3 = 0 : 0 -- 13\n",
            "                         attr3 = 1 : 0 -- 10\n",
            "                 attr2 = 1\n",
            "                     attr1 = 0\n",
            "                         attr3 = 0 : 1 -- 11\n",
            "                         attr3 = 1 : 1 -- 9\n",
            "                     attr1 = 1\n",
            "                         attr3 = 0 : 0 -- 9\n",
            "                         attr3 = 1 : 0 -- 8\n",
            "     attr5 = 1\n",
            "         attr6 = 0\n",
            "             attr3 = 0\n",
            "                 attr4 = 0\n",
            "                     attr1 = 0\n",
            "                         attr2 = 0 : 0 -- 14\n",
            "                         attr2 = 1 : 0 -- 11\n",
            "                     attr1 = 1\n",
            "                         attr2 = 0 : 0 -- 8\n",
            "                         attr2 = 1 : 0 -- 14\n",
            "                 attr4 = 1\n",
            "                     attr1 = 0\n",
            "                         attr2 = 0 : 1 -- 16\n",
            "                         attr2 = 1 : 1 -- 20\n",
            "                     attr1 = 1\n",
            "                         attr2 = 0 : 0 -- 11\n",
            "                         attr2 = 1 : 0 -- 9\n",
            "             attr3 = 1\n",
            "                 attr2 = 0\n",
            "                     attr4 = 0\n",
            "                         attr1 = 0 : 1 -- 13\n",
            "                         attr1 = 1 : 1 -- 14\n",
            "                     attr4 = 1 : 1 -- 28\n",
            "                 attr2 = 1\n",
            "                     attr1 = 0\n",
            "                         attr4 = 0 : 1 -- 14\n",
            "                         attr4 = 1 : 1 -- 9\n",
            "                     attr1 = 1\n",
            "                         attr4 = 0 : 1 -- 8\n",
            "                         attr4 = 1 : 0 -- 14\n",
            "         attr6 = 1\n",
            "             attr4 = 0\n",
            "                 attr2 = 0\n",
            "                     attr3 = 0\n",
            "                         attr1 = 0 : 0 -- 18\n",
            "                         attr1 = 1 : 0 -- 11\n",
            "                     attr3 = 1 : 0 -- 26\n",
            "                 attr2 = 1\n",
            "                     attr1 = 0\n",
            "                         attr3 = 0 : 0 -- 14\n",
            "                         attr3 = 1 : 0 -- 14\n",
            "                     attr1 = 1 : 0 -- 14\n",
            "             attr4 = 1\n",
            "                 attr1 = 0\n",
            "                     attr2 = 0\n",
            "                         attr3 = 0 : 0 -- 11\n",
            "                         attr3 = 1 : 1 -- 13\n",
            "                     attr2 = 1\n",
            "                         attr3 = 0 : 1 -- 12\n",
            "                         attr3 = 1 : 0 -- 14\n",
            "                 attr1 = 1\n",
            "                     attr2 = 0\n",
            "                         attr3 = 0 : 0 -- 10\n",
            "                         attr3 = 1 : 0 -- 13\n",
            "                     attr2 = 1\n",
            "                         attr3 = 0 : 0 -- 16\n",
            "                         attr3 = 1 : 0 -- 14\n"
          ]
        }
      ]
    },
    {
      "cell_type": "markdown",
      "metadata": {
        "id": "YvYowzzA4vcd"
      },
      "source": [
        "## Part 4: Extra Credit - Learning Curve\n",
        "Instead of taking the entire training data (all 800 instances), loop through to select 'x' instances in the increments of 40 (i.e. 40, 80, 120, and so on). For each selected number 'x', randomly pick the example instances from the training data and call the ID3 function to create the decision tree. Calculate the accuracy of the created ID3 tree on the Test data file. Plot the corresponding graph, aka Learning Curve.\n"
      ]
    },
    {
      "cell_type": "code",
      "metadata": {
        "id": "FYSK99zp5a7H",
        "colab": {
          "base_uri": "https://localhost:8080/",
          "height": 283
        },
        "outputId": "9319ae48-e7c1-4338-f6e4-f2d6a4257d5b"
      },
      "source": [
        "# *** Partial EC implementation attempt-- recursion issues encountered when testing predictions using test data file.\n",
        "# initialize variables\n",
        "random_df = pd.DataFrame() # create empty dataframe\n",
        "instances = []\n",
        "accuracy_list = []\n",
        "\n",
        "# Loop through to select the number of instances 'x' in increments of 40\n",
        "for index in np.arange(40, data.shape[0] + 40, 40): # added 40 to stop value so all 800 rows can be iterated (versus 760)\n",
        "    # append x instances in increments of 40\n",
        "    instances.append(index)\n",
        "\n",
        "# For each 'x',\n",
        "for x in instances:\n",
        "    # Randomly select 'x' instances\n",
        "    random_df = data.sample(x)\n",
        "    random_df = random_df.reset_index(drop = True) # resets indices to start properly at 0\n",
        "\n",
        "    # initialize attributesRem to be used for ID3 finction call\n",
        "    attributesRem = random_df.columns\n",
        "    attributesRem = list(attributesRem[0:-1])\n",
        "    # Create the ID3 decision tree using those instances\n",
        "    EC_tree = ID3(random_df, Node(), attributesRem)\n",
        "  \n",
        "    # Call on function for predicting values using newly generated tree\n",
        "    EC_prediction_results = predict_results_per_row(EC_tree, random_df) \n",
        "\n",
        "    # initialize variables\n",
        "    EC_accuracy = 0.0\n",
        "    \n",
        "    # iterate through training dataset to compare values\n",
        "    for index, row in random_df.iterrows():\n",
        "        # Compare it with the ground truth class label and calculate the accuracy accordingly\n",
        "        if EC_prediction_results[index] == row['class']:\n",
        "            # Calculate the accuracy of the ID3 tree created on the Test data\n",
        "            EC_accuracy = EC_accuracy + 1\n",
        "    \n",
        "    # update accuracy\n",
        "    EC_accuracy = EC_accuracy / random_df.shape[0]\n",
        "    # append to accuracy list\n",
        "    accuracy_list.append(EC_accuracy)\n",
        "    \n",
        "# Plot the learning curve using the accuracy values\n",
        "# X-axis will be the number of training instances used for creating the tree\n",
        "# Y-axis will be the accuracy in % on the Test data\n",
        "plt.plot(instances, accuracy_list)\n",
        "plt.xlim([0, 800])\n",
        "plt.ylim([0, 1])\n",
        "plt.xlabel(\"Instances\")\n",
        "plt.ylabel(\"Accuracy\")\n",
        "plt.show()\n"
      ],
      "execution_count": null,
      "outputs": [
        {
          "output_type": "display_data",
          "data": {
            "text/plain": [
              "<Figure size 432x288 with 1 Axes>"
            ],
            "image/png": "[encoded data removed]"
          },
          "metadata": {
            "needs_background": "light"
          }
        }
      ]
    }
  ]
}